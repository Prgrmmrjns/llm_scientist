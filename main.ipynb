{
 "cells": [
  {
   "cell_type": "code",
   "execution_count": null,
   "metadata": {},
   "outputs": [],
   "source": [
    "from Bio import Entrez\n",
    "\n",
    "def fetch_pubmed_abstracts(search_string, email, max_results=10):\n",
    "    Entrez.email = email\n",
    "    handle = Entrez.esearch(db=\"pubmed\", term=search_string, retmax=max_results)\n",
    "    record = Entrez.read(handle)\n",
    "    handle.close()\n",
    "    pmids = record[\"IdList\"]\n",
    "    \n",
    "    abstracts = []\n",
    "    for pmid in pmids:\n",
    "        handle = Entrez.efetch(db=\"pubmed\", id=pmid, rettype=\"abstract\", retmode=\"text\")\n",
    "        abstract = handle.read()\n",
    "        handle.close()\n",
    "        abstracts.append({\"PMID\": pmid, \"Abstract\": abstract})\n",
    "    \n",
    "    return abstracts\n",
    "\n",
    "# Example usage\n",
    "if __name__ == \"__main__\":\n",
    "    search_string = \"machine learning AND health outcomes\"\n",
    "    email = \"your_email@example.com\"\n",
    "    max_results = 5\n",
    "    results = fetch_pubmed_abstracts(search_string, email, max_results)\n",
    "    for result in results:\n",
    "        print(f\"PMID: {result['PMID']}\\nAbstract: {result['Abstract']}\\n\")"
   ]
  }
 ],
 "metadata": {
  "kernelspec": {
   "display_name": "newest",
   "language": "python",
   "name": "python3"
  },
  "language_info": {
   "name": "python",
   "version": "3.12.8"
  }
 },
 "nbformat": 4,
 "nbformat_minor": 2
}
